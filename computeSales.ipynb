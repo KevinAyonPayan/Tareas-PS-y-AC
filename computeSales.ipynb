{
  "nbformat": 4,
  "nbformat_minor": 0,
  "metadata": {
    "colab": {
      "provenance": []
    },
    "kernelspec": {
      "name": "python3",
      "display_name": "Python 3"
    },
    "language_info": {
      "name": "python"
    }
  },
  "cells": [
    {
      "cell_type": "code",
      "source": [
        "pip install pylint"
      ],
      "metadata": {
        "colab": {
          "base_uri": "https://localhost:8080/"
        },
        "id": "AaOKqAbmWEka",
        "outputId": "17d4d68c-f7ea-4746-c040-3fd6eec3b7ac"
      },
      "execution_count": 10,
      "outputs": [
        {
          "output_type": "stream",
          "name": "stdout",
          "text": [
            "Requirement already satisfied: pylint in /usr/local/lib/python3.10/dist-packages (3.0.3)\n",
            "Requirement already satisfied: platformdirs>=2.2.0 in /usr/local/lib/python3.10/dist-packages (from pylint) (4.2.0)\n",
            "Requirement already satisfied: astroid<=3.1.0-dev0,>=3.0.1 in /usr/local/lib/python3.10/dist-packages (from pylint) (3.0.3)\n",
            "Requirement already satisfied: isort!=5.13.0,<6,>=4.2.5 in /usr/local/lib/python3.10/dist-packages (from pylint) (5.13.2)\n",
            "Requirement already satisfied: mccabe<0.8,>=0.6 in /usr/local/lib/python3.10/dist-packages (from pylint) (0.7.0)\n",
            "Requirement already satisfied: tomlkit>=0.10.1 in /usr/local/lib/python3.10/dist-packages (from pylint) (0.12.3)\n",
            "Requirement already satisfied: dill>=0.2 in /usr/local/lib/python3.10/dist-packages (from pylint) (0.3.8)\n",
            "Requirement already satisfied: tomli>=1.1.0 in /usr/local/lib/python3.10/dist-packages (from pylint) (2.0.1)\n",
            "Requirement already satisfied: typing-extensions>=4.0.0 in /usr/local/lib/python3.10/dist-packages (from astroid<=3.1.0-dev0,>=3.0.1->pylint) (4.9.0)\n"
          ]
        }
      ]
    },
    {
      "cell_type": "code",
      "source": [
        "!pylint computeSales.ipynb"
      ],
      "metadata": {
        "colab": {
          "base_uri": "https://localhost:8080/"
        },
        "id": "hMtza_FhWSB0",
        "outputId": "ab10f8d3-5b8e-4a0c-f0d3-972f4f6ae810"
      },
      "execution_count": 40,
      "outputs": [
        {
          "output_type": "stream",
          "name": "stdout",
          "text": [
            "************* Module computeSales\n",
            "computeSales.ipynb:1:0: C0304: Final newline missing (missing-final-newline)\n",
            "computeSales.ipynb:1:0: C0301: Line too long (19194/100) (line-too-long)\n",
            "computeSales.ipynb:1:0: C0114: Missing module docstring (missing-module-docstring)\n",
            "computeSales.ipynb:1:0: C0103: Module name \"computeSales\" doesn't conform to snake_case naming style (invalid-name)\n",
            "computeSales.ipynb:1:0: W0104: Statement seems to have no effect (pointless-statement)\n",
            "\n",
            "------------------------------------------------------------------\n",
            "Your code has been rated at 0.00/10 (previous run: 0.00/10, +0.00)\n",
            "\n"
          ]
        }
      ]
    },
    {
      "cell_type": "code",
      "source": [
        "pip install flake8"
      ],
      "metadata": {
        "colab": {
          "base_uri": "https://localhost:8080/"
        },
        "id": "g_gfjb6g3U19",
        "outputId": "87aa5c4f-93d2-4f5c-ad38-f6f707dca01f"
      },
      "execution_count": 41,
      "outputs": [
        {
          "output_type": "stream",
          "name": "stdout",
          "text": [
            "Collecting flake8\n",
            "  Downloading flake8-7.0.0-py2.py3-none-any.whl (57 kB)\n",
            "\u001b[?25l     \u001b[90m━━━━━━━━━━━━━━━━━━━━━━━━━━━━━━━━━━━━━━━━\u001b[0m \u001b[32m0.0/57.6 kB\u001b[0m \u001b[31m?\u001b[0m eta \u001b[36m-:--:--\u001b[0m\r\u001b[2K     \u001b[90m━━━━━━━━━━━━━━━━━━━━━━━━━━━━━━━━━━━━━━━━\u001b[0m \u001b[32m57.6/57.6 kB\u001b[0m \u001b[31m2.4 MB/s\u001b[0m eta \u001b[36m0:00:00\u001b[0m\n",
            "\u001b[?25hRequirement already satisfied: mccabe<0.8.0,>=0.7.0 in /usr/local/lib/python3.10/dist-packages (from flake8) (0.7.0)\n",
            "Collecting pycodestyle<2.12.0,>=2.11.0 (from flake8)\n",
            "  Downloading pycodestyle-2.11.1-py2.py3-none-any.whl (31 kB)\n",
            "Collecting pyflakes<3.3.0,>=3.2.0 (from flake8)\n",
            "  Downloading pyflakes-3.2.0-py2.py3-none-any.whl (62 kB)\n",
            "\u001b[2K     \u001b[90m━━━━━━━━━━━━━━━━━━━━━━━━━━━━━━━━━━━━━━━━\u001b[0m \u001b[32m62.7/62.7 kB\u001b[0m \u001b[31m5.8 MB/s\u001b[0m eta \u001b[36m0:00:00\u001b[0m\n",
            "\u001b[?25hInstalling collected packages: pyflakes, pycodestyle, flake8\n",
            "Successfully installed flake8-7.0.0 pycodestyle-2.11.1 pyflakes-3.2.0\n"
          ]
        }
      ]
    },
    {
      "cell_type": "code",
      "source": [
        "!jupyter nbconvert --to script computeSales.ipynb"
      ],
      "metadata": {
        "colab": {
          "base_uri": "https://localhost:8080/"
        },
        "id": "-5rh_uWB3oxl",
        "outputId": "4df2b371-2dd2-4483-f31e-3e7b9f3f6b2f"
      },
      "execution_count": 42,
      "outputs": [
        {
          "output_type": "stream",
          "name": "stdout",
          "text": [
            "[NbConvertApp] Converting notebook computeSales.ipynb to script\n",
            "[NbConvertApp] Writing 2148 bytes to computeSales.txt\n"
          ]
        }
      ]
    },
    {
      "cell_type": "code",
      "source": [
        "!flake8 computeSales.ipynb\n"
      ],
      "metadata": {
        "id": "wYHgFUxU9ZkU"
      },
      "execution_count": null,
      "outputs": []
    },
    {
      "cell_type": "code",
      "source": [
        "from google.colab import drive\n",
        "drive.mount('/content/drive')"
      ],
      "metadata": {
        "colab": {
          "base_uri": "https://localhost:8080/"
        },
        "id": "-Y_8KkKEd8wB",
        "outputId": "47f89fe1-9486-4871-c36b-e63636c8fd8a"
      },
      "execution_count": 14,
      "outputs": [
        {
          "output_type": "stream",
          "name": "stdout",
          "text": [
            "Mounted at /content/drive\n"
          ]
        }
      ]
    },
    {
      "cell_type": "code",
      "source": [
        "import os\n",
        "DIR = \"/content/drive/MyDrive/Maestría Inteligencia Artificial Aplicada/PS y AC\"\n",
        "os.chdir(DIR)"
      ],
      "metadata": {
        "id": "EU1Sep3TeI-v"
      },
      "execution_count": 15,
      "outputs": []
    },
    {
      "cell_type": "code",
      "source": [
        "import json\n",
        "import pandas as pd\n",
        "\n",
        "\n",
        "def func_ventas(catalogo, ventas):\n",
        "    # Catálogo de productos\n",
        "    with open(catalogo, 'r') as f:\n",
        "        catalogo_prod = json.load(f)\n",
        "\n",
        "    # Catálogo de ventas\n",
        "    with open(ventas, 'r') as f:\n",
        "        ventas_prod = json.load(f)\n",
        "\n",
        "    catalogo_pd = pd.DataFrame(catalogo_prod)\n",
        "    costo_total = 0\n",
        "\n",
        "    for sale in ventas_prod:\n",
        "        nom_prod = sale.get('Product')\n",
        "        cantidad = sale.get('Quantity')\n",
        "        if nom_prod in catalogo_pd['title'].values:\n",
        "            prod = catalogo_pd.loc[catalogo_pd['title'] == str(nom_prod)]\n",
        "            precio = prod.iloc[0]['price']  # Access price of the product\n",
        "            costo_venta = precio * cantidad\n",
        "            costo_total += costo_venta\n",
        "            print(f\"Producto vendido: {nom_prod}, \"\n",
        "                  f\"Cantidad: {cantidad}, Costo total: ${costo_venta:.2f}\")\n",
        "        else:\n",
        "            print(f\"El producto {nom_prod} no se encontró en el catálogo.\")\n",
        "\n",
        "    # Imprimir el costo total\n",
        "    print(f\"Costo total de las ventas: ${costo_total:.2f}\")\n",
        "\n",
        "    # Escribir los resultados en SalesResults.txt\n",
        "    with open(\"SalesResults.txt\", 'w') as f:\n",
        "        f.write(\"Resultados de ventas:\\n\")\n",
        "        for sale in ventas_prod:\n",
        "            nom_prod = sale.get('Product')\n",
        "            cantidad = sale.get('Quantity')\n",
        "            if nom_prod in catalogo_prod:\n",
        "                prod = catalogo_prod[nom_prod]\n",
        "                precio = prod.get('price')\n",
        "                costo_venta = precio * cantidad\n",
        "                f.write(f\"Producto vendido: {nom_prod}, \"\n",
        "                        f\"Cantidad: {cantidad}, Costo total: ${costo_venta:.2f}\\n\")\n",
        "        f.write(f\"Costo total de todas las ventas: ${costo_total:.2f}\")\n"
      ],
      "metadata": {
        "id": "4WBPxa2B2eRe"
      },
      "execution_count": 52,
      "outputs": []
    },
    {
      "cell_type": "code",
      "source": [
        "catalogo = 'TC1.ProductList.json'\n",
        "ventas = 'TC1.Sales.json'\n",
        "\n",
        "func_ventas(catalogo, ventas)"
      ],
      "metadata": {
        "colab": {
          "base_uri": "https://localhost:8080/"
        },
        "id": "OUf_fQ-v1RnG",
        "outputId": "50c47320-67ec-404b-f867-6480e8cc144f"
      },
      "execution_count": 51,
      "outputs": [
        {
          "output_type": "stream",
          "name": "stdout",
          "text": [
            "Producto vendido: Rustic breakfast, Cantidad: 1, Costo total: $21.32\n",
            "Producto vendido: Sandwich with salad, Cantidad: 2, Costo total: $44.96\n",
            "Producto vendido: Raw legums, Cantidad: 1, Costo total: $17.11\n",
            "Producto vendido: Fresh stawberry, Cantidad: 1, Costo total: $28.59\n",
            "Producto vendido: Pears juice, Cantidad: 2, Costo total: $38.98\n",
            "Producto vendido: Green smoothie, Cantidad: 3, Costo total: $53.04\n",
            "Producto vendido: Cuban sandwiche, Cantidad: 2, Costo total: $37.00\n",
            "Producto vendido: Hazelnut in black ceramic bowl, Cantidad: 2, Costo total: $54.70\n",
            "Producto vendido: Tomatoes, Cantidad: 1, Costo total: $26.03\n",
            "Producto vendido: Plums, Cantidad: 1, Costo total: $19.18\n",
            "Producto vendido: Fresh blueberries, Cantidad: 2, Costo total: $42.02\n",
            "Producto vendido: Green smoothie, Cantidad: 2, Costo total: $35.36\n",
            "Producto vendido: Corn, Cantidad: 3, Costo total: $40.65\n",
            "Producto vendido: French fries, Cantidad: 1, Costo total: $18.32\n",
            "Producto vendido: Ground beef meat burger, Cantidad: 1, Costo total: $11.73\n",
            "Producto vendido: Hazelnut in black ceramic bowl, Cantidad: 2, Costo total: $54.70\n",
            "Producto vendido: Cherry, Cantidad: 2, Costo total: $28.70\n",
            "Producto vendido: Homemade bread, Cantidad: 1, Costo total: $17.48\n",
            "Producto vendido: Smoothie with chia seeds, Cantidad: 1, Costo total: $25.26\n",
            "Producto vendido: Corn, Cantidad: 1, Costo total: $13.55\n",
            "Producto vendido: Peaches on branch, Cantidad: 2, Costo total: $51.24\n",
            "Producto vendido: Pesto with basil, Cantidad: 2, Costo total: $36.38\n",
            "Producto vendido: Plums, Cantidad: 1, Costo total: $19.18\n",
            "Producto vendido: Fresh blueberries, Cantidad: 2, Costo total: $42.02\n",
            "Producto vendido: Green smoothie, Cantidad: 4, Costo total: $70.72\n",
            "Producto vendido: Corn, Cantidad: 1, Costo total: $13.55\n",
            "Producto vendido: French fries, Cantidad: 2, Costo total: $36.64\n",
            "Producto vendido: Ground beef meat burger, Cantidad: 3, Costo total: $35.19\n",
            "Producto vendido: Hazelnut in black ceramic bowl, Cantidad: 1, Costo total: $27.35\n",
            "Producto vendido: Cherry, Cantidad: 2, Costo total: $28.70\n",
            "Producto vendido: Homemade bread, Cantidad: 5, Costo total: $87.40\n",
            "Producto vendido: Smoothie with chia seeds, Cantidad: 2, Costo total: $50.52\n",
            "Producto vendido: Corn, Cantidad: 10, Costo total: $135.50\n",
            "Producto vendido: Rustic breakfast, Cantidad: 2, Costo total: $42.64\n",
            "Producto vendido: Sandwich with salad, Cantidad: 3, Costo total: $67.44\n",
            "Producto vendido: Raw legums, Cantidad: 20, Costo total: $342.20\n",
            "Producto vendido: Fresh stawberry, Cantidad: 4, Costo total: $114.36\n",
            "Producto vendido: Pears juice, Cantidad: 1, Costo total: $19.49\n",
            "Producto vendido: Green smoothie, Cantidad: 8, Costo total: $141.44\n",
            "Producto vendido: Cuban sandwiche, Cantidad: 9, Costo total: $166.50\n",
            "Producto vendido: Hazelnut in black ceramic bowl, Cantidad: 2, Costo total: $54.70\n",
            "Producto vendido: Tomatoes, Cantidad: 1, Costo total: $26.03\n",
            "Producto vendido: Plums, Cantidad: 2, Costo total: $38.36\n",
            "Producto vendido: Fresh blueberries, Cantidad: 3, Costo total: $63.03\n",
            "Producto vendido: Green smoothie, Cantidad: 5, Costo total: $88.40\n",
            "Producto vendido: Corn, Cantidad: 4, Costo total: $54.20\n",
            "Costo total de las ventas: $2481.86\n"
          ]
        }
      ]
    },
    {
      "cell_type": "code",
      "source": [
        "catalogo = 'TC1.ProductList.json'\n",
        "ventas = 'TC2.Sales.json'\n",
        "\n",
        "func_ventas(catalogo, ventas)"
      ],
      "metadata": {
        "id": "fuP5wek1bq0S",
        "colab": {
          "base_uri": "https://localhost:8080/"
        },
        "outputId": "3aa56a54-4154-4d44-dc58-0936435b6750"
      },
      "execution_count": 36,
      "outputs": [
        {
          "output_type": "stream",
          "name": "stdout",
          "text": [
            "Product vendido: Rustic breakfast, Cantidad: 200, Costo total: $4264.00\n",
            "Product vendido: Sandwich with salad, Cantidad: 23, Costo total: $517.04\n",
            "Product vendido: Raw legums, Cantidad: 11, Costo total: $188.21\n",
            "Product vendido: Fresh stawberry, Cantidad: 221, Costo total: $6318.39\n",
            "Product vendido: Raw legums, Cantidad: 2, Costo total: $34.22\n",
            "Product vendido: Green smoothie, Cantidad: 400, Costo total: $7072.00\n",
            "Product vendido: Cuban sandwiche, Cantidad: 2, Costo total: $37.00\n",
            "Product vendido: Hazelnut in black ceramic bowl, Cantidad: 2, Costo total: $54.70\n",
            "Product vendido: Tomatoes, Cantidad: 1, Costo total: $26.03\n",
            "Product vendido: Plums, Cantidad: 250, Costo total: $4795.00\n",
            "Product vendido: Fresh blueberries, Cantidad: 334, Costo total: $7017.34\n",
            "Product vendido: Green smoothie, Cantidad: 300, Costo total: $5304.00\n",
            "Product vendido: Corn, Cantidad: 68, Costo total: $921.40\n",
            "Product vendido: French fries, Cantidad: 33, Costo total: $604.56\n",
            "Product vendido: Ground beef meat burger, Cantidad: 78, Costo total: $914.94\n",
            "Product vendido: Hazelnut in black ceramic bowl, Cantidad: 2, Costo total: $54.70\n",
            "Product vendido: Sweet fresh stawberry, Cantidad: 87, Costo total: $2562.15\n",
            "Product vendido: Homemade bread, Cantidad: 1, Costo total: $17.48\n",
            "Product vendido: Smoothie with chia seeds, Cantidad: 46, Costo total: $1161.96\n",
            "Product vendido: Corn, Cantidad: 1, Costo total: $13.55\n",
            "Product vendido: Plums, Cantidad: 2, Costo total: $38.36\n",
            "Product vendido: Fresh blueberries, Cantidad: 46, Costo total: $966.46\n",
            "Product vendido: Green smoothie, Cantidad: 1, Costo total: $17.68\n",
            "Product vendido: Corn, Cantidad: 2, Costo total: $27.10\n",
            "Product vendido: French fries, Cantidad: 4, Costo total: $73.28\n",
            "Product vendido: Ground beef meat burger, Cantidad: 64, Costo total: $750.72\n",
            "Product vendido: Hazelnut in black ceramic bowl, Cantidad: 2, Costo total: $54.70\n",
            "Product vendido: Sweet fresh stawberry, Cantidad: 3, Costo total: $88.35\n",
            "Product vendido: Homemade bread, Cantidad: 456, Costo total: $7970.88\n",
            "Product vendido: Smoothie with chia seeds, Cantidad: 2, Costo total: $50.52\n",
            "Product vendido: Corn, Cantidad: 5, Costo total: $67.75\n",
            "Product vendido: Plums, Cantidad: 645, Costo total: $12371.10\n",
            "Product vendido: Fresh blueberries, Cantidad: -35, Costo total: $-735.35\n",
            "Product vendido: Green smoothie, Cantidad: 2, Costo total: $35.36\n",
            "Product vendido: Corn, Cantidad: 465, Costo total: $6300.75\n",
            "Product vendido: French fries, Cantidad: 20, Costo total: $366.40\n",
            "Product vendido: Ground beef meat burger, Cantidad: 4, Costo total: $46.92\n",
            "Product vendido: Hazelnut in black ceramic bowl, Cantidad: 1, Costo total: $27.35\n",
            "Product vendido: Sweet fresh stawberry, Cantidad: 131, Costo total: $3857.95\n",
            "Product vendido: Homemade bread, Cantidad: 9, Costo total: $157.32\n",
            "Product vendido: Smoothie with chia seeds, Cantidad: 13, Costo total: $328.38\n",
            "Product vendido: Corn, Cantidad: 678, Costo total: $9186.90\n",
            "Product vendido: Plums, Cantidad: 334, Costo total: $6406.12\n",
            "Product vendido: Fresh blueberries, Cantidad: 3445, Costo total: $72379.45\n",
            "Product vendido: Green smoothie, Cantidad: -123, Costo total: $-2174.64\n",
            "Product vendido: Corn, Cantidad: 445, Costo total: $6029.75\n",
            "Costo total de las ventas: $166568.23\n"
          ]
        }
      ]
    },
    {
      "cell_type": "code",
      "source": [
        "catalogo = 'TC1.ProductList.json'\n",
        "ventas = 'TC3.Sales.json'\n",
        "\n",
        "func_ventas(catalogo, ventas)"
      ],
      "metadata": {
        "colab": {
          "base_uri": "https://localhost:8080/"
        },
        "id": "jT7EfbXU1U93",
        "outputId": "965a3d08-d324-48ab-d968-7684ec9ab0c8"
      },
      "execution_count": 37,
      "outputs": [
        {
          "output_type": "stream",
          "name": "stdout",
          "text": [
            "Product vendido: Rustic breakfast, Cantidad: 200, Costo total: $4264.00\n",
            "Product vendido: Sandwich with salad, Cantidad: 23, Costo total: $517.04\n",
            "Product vendido: Raw legums, Cantidad: 11, Costo total: $188.21\n",
            "Product vendido: Fresh stawberry, Cantidad: 221, Costo total: $6318.39\n",
            "Product vendido: Raw legums, Cantidad: 2, Costo total: $34.22\n",
            "Product vendido: Green smoothie, Cantidad: 400, Costo total: $7072.00\n",
            "Product vendido: Cuban sandwiche, Cantidad: 2, Costo total: $37.00\n",
            "Product vendido: Hazelnut in black ceramic bowl, Cantidad: 2, Costo total: $54.70\n",
            "Product vendido: Tomatoes, Cantidad: 1, Costo total: $26.03\n",
            "Product vendido: Plums, Cantidad: 250, Costo total: $4795.00\n",
            "Product vendido: Fresh blueberries, Cantidad: 334, Costo total: $7017.34\n",
            "Product vendido: Green smoothie, Cantidad: 300, Costo total: $5304.00\n",
            "Product vendido: Corn, Cantidad: 68, Costo total: $921.40\n",
            "Product vendido: French fries, Cantidad: 33, Costo total: $604.56\n",
            "Product vendido: Ground beef meat burger, Cantidad: 78, Costo total: $914.94\n",
            "Product vendido: Hazelnut in black ceramic bowl, Cantidad: 2, Costo total: $54.70\n",
            "Product vendido: Sweet fresh stawberry, Cantidad: 87, Costo total: $2562.15\n",
            "Product vendido: Homemade bread, Cantidad: 1, Costo total: $17.48\n",
            "Product vendido: Smoothie with chia seeds, Cantidad: 46, Costo total: $1161.96\n",
            "Product vendido: Corn, Cantidad: 1, Costo total: $13.55\n",
            "Product vendido: Plums, Cantidad: 2, Costo total: $38.36\n",
            "El producto Elotes no se encontró en el catálogo.\n",
            "Product vendido: Green smoothie, Cantidad: 1, Costo total: $17.68\n",
            "Product vendido: Corn, Cantidad: 2, Costo total: $27.10\n",
            "Product vendido: French fries, Cantidad: 4, Costo total: $73.28\n",
            "Product vendido: Ground beef meat burger, Cantidad: 64, Costo total: $750.72\n",
            "Product vendido: Hazelnut in black ceramic bowl, Cantidad: 2, Costo total: $54.70\n",
            "Product vendido: Sweet fresh stawberry, Cantidad: 3, Costo total: $88.35\n",
            "Product vendido: Homemade bread, Cantidad: 456, Costo total: $7970.88\n",
            "Product vendido: Smoothie with chia seeds, Cantidad: 2, Costo total: $50.52\n",
            "Product vendido: Corn, Cantidad: 5, Costo total: $67.75\n",
            "Product vendido: Plums, Cantidad: 645, Costo total: $12371.10\n",
            "Product vendido: Fresh blueberries, Cantidad: -35, Costo total: $-735.35\n",
            "Product vendido: Green smoothie, Cantidad: 2, Costo total: $35.36\n",
            "Product vendido: Corn, Cantidad: 465, Costo total: $6300.75\n",
            "El producto Frijoles no se encontró en el catálogo.\n",
            "Product vendido: Ground beef meat burger, Cantidad: 4, Costo total: $46.92\n",
            "Product vendido: Hazelnut in black ceramic bowl, Cantidad: 1, Costo total: $27.35\n",
            "Product vendido: Sweet fresh stawberry, Cantidad: 131, Costo total: $3857.95\n",
            "Product vendido: Homemade bread, Cantidad: 9, Costo total: $157.32\n",
            "Product vendido: Smoothie with chia seeds, Cantidad: 13, Costo total: $328.38\n",
            "Product vendido: Corn, Cantidad: 678, Costo total: $9186.90\n",
            "Product vendido: Plums, Cantidad: 334, Costo total: $6406.12\n",
            "Product vendido: Fresh blueberries, Cantidad: 3445, Costo total: $72379.45\n",
            "Product vendido: Green smoothie, Cantidad: -123, Costo total: $-2174.64\n",
            "Product vendido: Corn, Cantidad: 445, Costo total: $6029.75\n",
            "Costo total de las ventas: $165235.37\n"
          ]
        }
      ]
    },
    {
      "cell_type": "code",
      "source": [],
      "metadata": {
        "id": "SuVx2EGz4Btc"
      },
      "execution_count": null,
      "outputs": []
    }
  ]
}