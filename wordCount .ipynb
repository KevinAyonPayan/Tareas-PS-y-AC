{
  "nbformat": 4,
  "nbformat_minor": 0,
  "metadata": {
    "colab": {
      "provenance": []
    },
    "kernelspec": {
      "name": "python3",
      "display_name": "Python 3"
    },
    "language_info": {
      "name": "python"
    }
  },
  "cells": [
    {
      "cell_type": "code",
      "source": [
        "pip install pylint"
      ],
      "metadata": {
        "colab": {
          "base_uri": "https://localhost:8080/"
        },
        "id": "Ep7j6gtkn91i",
        "outputId": "2d1b78a7-7f7b-48f9-a08f-cebe41f53cca"
      },
      "execution_count": 1,
      "outputs": [
        {
          "output_type": "stream",
          "name": "stdout",
          "text": [
            "Collecting pylint\n",
            "  Downloading pylint-3.0.3-py3-none-any.whl (510 kB)\n",
            "\u001b[?25l     \u001b[90m━━━━━━━━━━━━━━━━━━━━━━━━━━━━━━━━━━━━━━━━\u001b[0m \u001b[32m0.0/510.6 kB\u001b[0m \u001b[31m?\u001b[0m eta \u001b[36m-:--:--\u001b[0m\r\u001b[2K     \u001b[91m━━━━━━━━━━━━━━━━━━━━━━━━━━━━━━━━━━━━\u001b[0m\u001b[90m╺\u001b[0m\u001b[90m━━━\u001b[0m \u001b[32m460.8/510.6 kB\u001b[0m \u001b[31m13.7 MB/s\u001b[0m eta \u001b[36m0:00:01\u001b[0m\r\u001b[2K     \u001b[90m━━━━━━━━━━━━━━━━━━━━━━━━━━━━━━━━━━━━━━━━\u001b[0m \u001b[32m510.6/510.6 kB\u001b[0m \u001b[31m11.2 MB/s\u001b[0m eta \u001b[36m0:00:00\u001b[0m\n",
            "\u001b[?25hRequirement already satisfied: platformdirs>=2.2.0 in /usr/local/lib/python3.10/dist-packages (from pylint) (4.2.0)\n",
            "Collecting astroid<=3.1.0-dev0,>=3.0.1 (from pylint)\n",
            "  Downloading astroid-3.0.3-py3-none-any.whl (275 kB)\n",
            "\u001b[2K     \u001b[90m━━━━━━━━━━━━━━━━━━━━━━━━━━━━━━━━━━━━━━━━\u001b[0m \u001b[32m275.2/275.2 kB\u001b[0m \u001b[31m13.8 MB/s\u001b[0m eta \u001b[36m0:00:00\u001b[0m\n",
            "\u001b[?25hCollecting isort!=5.13.0,<6,>=4.2.5 (from pylint)\n",
            "  Downloading isort-5.13.2-py3-none-any.whl (92 kB)\n",
            "\u001b[2K     \u001b[90m━━━━━━━━━━━━━━━━━━━━━━━━━━━━━━━━━━━━━━━━\u001b[0m \u001b[32m92.3/92.3 kB\u001b[0m \u001b[31m12.2 MB/s\u001b[0m eta \u001b[36m0:00:00\u001b[0m\n",
            "\u001b[?25hCollecting mccabe<0.8,>=0.6 (from pylint)\n",
            "  Downloading mccabe-0.7.0-py2.py3-none-any.whl (7.3 kB)\n",
            "Collecting tomlkit>=0.10.1 (from pylint)\n",
            "  Downloading tomlkit-0.12.3-py3-none-any.whl (37 kB)\n",
            "Collecting dill>=0.2 (from pylint)\n",
            "  Downloading dill-0.3.8-py3-none-any.whl (116 kB)\n",
            "\u001b[2K     \u001b[90m━━━━━━━━━━━━━━━━━━━━━━━━━━━━━━━━━━━━━━━━\u001b[0m \u001b[32m116.3/116.3 kB\u001b[0m \u001b[31m14.4 MB/s\u001b[0m eta \u001b[36m0:00:00\u001b[0m\n",
            "\u001b[?25hRequirement already satisfied: tomli>=1.1.0 in /usr/local/lib/python3.10/dist-packages (from pylint) (2.0.1)\n",
            "Requirement already satisfied: typing-extensions>=4.0.0 in /usr/local/lib/python3.10/dist-packages (from astroid<=3.1.0-dev0,>=3.0.1->pylint) (4.9.0)\n",
            "Installing collected packages: tomlkit, mccabe, isort, dill, astroid, pylint\n",
            "Successfully installed astroid-3.0.3 dill-0.3.8 isort-5.13.2 mccabe-0.7.0 pylint-3.0.3 tomlkit-0.12.3\n"
          ]
        }
      ]
    },
    {
      "cell_type": "code",
      "source": [
        "!pylint wordCount.ipynb"
      ],
      "metadata": {
        "colab": {
          "base_uri": "https://localhost:8080/"
        },
        "id": "kc5Vpa65oFJ1",
        "outputId": "689bda29-6b7f-4b8a-f686-7939c014e9f0"
      },
      "execution_count": 16,
      "outputs": [
        {
          "output_type": "stream",
          "name": "stdout",
          "text": [
            "************* Module wordCount\n",
            "wordCount.ipynb:1:0: C0304: Final newline missing (missing-final-newline)\n",
            "wordCount.ipynb:1:0: C0301: Line too long (63221/100) (line-too-long)\n",
            "wordCount.ipynb:1:0: C0114: Missing module docstring (missing-module-docstring)\n",
            "wordCount.ipynb:1:0: C0103: Module name \"wordCount\" doesn't conform to snake_case naming style (invalid-name)\n",
            "wordCount.ipynb:1:0: W0104: Statement seems to have no effect (pointless-statement)\n",
            "wordCount.ipynb:1:3581: E0602: Undefined variable 'null' (undefined-variable)\n",
            "wordCount.ipynb:1:63694: E0602: Undefined variable 'null' (undefined-variable)\n",
            "\n",
            "-----------------------------------\n",
            "Your code has been rated at 0.00/10\n",
            "\n"
          ]
        }
      ]
    },
    {
      "cell_type": "code",
      "source": [
        "from google.colab import drive\n",
        "drive.mount('/content/drive')"
      ],
      "metadata": {
        "id": "-Y_8KkKEd8wB",
        "colab": {
          "base_uri": "https://localhost:8080/"
        },
        "outputId": "1d7d872f-590f-41ed-9a69-82d497a9f195"
      },
      "execution_count": 2,
      "outputs": [
        {
          "output_type": "stream",
          "name": "stdout",
          "text": [
            "Mounted at /content/drive\n"
          ]
        }
      ]
    },
    {
      "cell_type": "code",
      "source": [
        "import sys\n",
        "import os\n",
        "DIR = \"/content/drive/MyDrive/Maestría Inteligencia Artificial Aplicada/PS y AC\"\n",
        "os.chdir(DIR)"
      ],
      "metadata": {
        "id": "EU1Sep3TeI-v"
      },
      "execution_count": 4,
      "outputs": []
    },
    {
      "cell_type": "code",
      "execution_count": 17,
      "metadata": {
        "id": "W55LcS74bi-c",
        "colab": {
          "base_uri": "https://localhost:8080/"
        },
        "outputId": "65557766-d709-4d4e-f31e-19db8c63ea35"
      },
      "outputs": [
        {
          "output_type": "stream",
          "name": "stdout",
          "text": [
            "mother\n",
            "tions\n",
            "pin\n",
            "sure\n",
            "regulatory\n",
            "shower\n",
            "uni\n",
            "dial\n",
            "photography\n",
            "buying\n",
            "firms\n",
            "nba\n",
            "father\n",
            "championship\n",
            "vagina\n",
            "fonts\n",
            "sparc\n",
            "explorer\n",
            "rl\n",
            "shadow\n",
            "danish\n",
            "seed\n",
            "hiking\n",
            "instrumentation\n",
            "introduces\n",
            "kinda\n",
            "nor\n",
            "newer\n",
            "peter\n",
            "contamination\n",
            "matters\n",
            "bedding\n",
            "achievement\n",
            "password\n",
            "conservative\n",
            "webcast\n",
            "locks\n",
            "cove\n",
            "taxes\n",
            "could\n",
            "pct\n",
            "adequate\n",
            "nightmare\n",
            "marathon\n",
            "permission\n",
            "cartridge\n",
            "clear\n",
            "drum\n",
            "trained\n",
            "p\n",
            "manufacturer\n",
            "leisure\n",
            "media\n",
            "journey\n",
            "anal\n",
            "teaches\n",
            "customized\n",
            "oakland\n",
            "louis\n",
            "tab\n",
            "consistent\n",
            "enhanced\n",
            "liable\n",
            "ebony\n",
            "wan\n",
            "conservative\n",
            "pubmed\n",
            "math\n",
            "tea\n",
            "craps\n",
            "gothic\n",
            "permissions\n",
            "recorded\n",
            "cgi\n",
            "confirm\n",
            "hyundai\n",
            "exhaust\n",
            "malpractice\n",
            "pens\n",
            "potentially\n",
            "glenn\n",
            "scoring\n",
            "andrews\n",
            "assessed\n",
            "adventures\n",
            "meals\n",
            "mortality\n",
            "club\n",
            "mon\n",
            "comm\n",
            "blues\n",
            "collect\n",
            "lies\n",
            "seats\n",
            "worse\n",
            "guestbook\n",
            "influences\n",
            "kodak\n",
            "significance\n",
            "coastal\n"
          ]
        }
      ],
      "source": [
        "# PROCESADO DE ARCHIVOS\n",
        "def procesar_archivo(tc):\n",
        "    try:\n",
        "        with open(tc, 'r') as archivo:\n",
        "            contenido_archivo = archivo.read()\n",
        "            print(contenido_archivo)\n",
        "    except FileNotFoundError:\n",
        "        print(f\"Error: No se encontró el archivo: {tc}\")\n",
        "    except Exception as e:\n",
        "        print(f\"Error al procesar el archivo: {e}\")\n",
        "\n",
        "tc_seleccionado = 'TC1 - 3.txt'  # 'TC2.txt', 'TC3.txt', 'TC4.txt', 'TC5.txt', 'TC6.txt', 'TC7.txt'\n",
        "procesar_archivo(tc_seleccionado)\n",
        "\n"
      ]
    },
    {
      "cell_type": "code",
      "source": [
        "# FUNCIÓN DE CONTEO\n",
        "\n",
        "def procesar_archivo(tc):\n",
        "    try:\n",
        "        with open(tc, 'r') as archivo:\n",
        "            contenido_archivo = archivo.read().lower().split()\n",
        "            frecuencia_palabras = {}\n",
        "            for palabra in contenido_archivo:\n",
        "                if palabra in frecuencia_palabras:\n",
        "                    frecuencia_palabras[palabra] += 1\n",
        "                else:\n",
        "                    frecuencia_palabras[palabra] = 1\n",
        "\n",
        "            print(\"Palabras y su frecuencia en el archivo:\")\n",
        "            for palabra, frecuencia in frecuencia_palabras.items():\n",
        "                print(f\"{palabra}: {frecuencia}\")\n",
        "\n",
        "            with open('WordCountResults.txt', 'w') as resultado_file:\n",
        "                resultado_file.write(\"Palabras y su frecuencia en el archivo:\\n\")\n",
        "                for palabra, frecuencia in frecuencia_palabras.items():\n",
        "                    resultado_file.write(f\"{palabra}: {frecuencia}\\n\")\n",
        "    except FileNotFoundError:\n",
        "        print(f\"Error: No se encontró el archivo: {tc}\")\n",
        "    except Exception as e:\n",
        "        print(f\"Error al procesar el archivo: {e}\")\n"
      ],
      "metadata": {
        "id": "HXyJZrYtgorx"
      },
      "execution_count": 18,
      "outputs": []
    },
    {
      "cell_type": "code",
      "source": [
        "#PROCESADO DE ARCHIVO\n",
        "\n",
        "tc_seleccionado = 'TC1 - 3.txt' # 'TC2 - 3.txt'   'TC3 - 3.txt'  'TC4 - 3.txt'  'TC5 - 3.txt'\n",
        "\n",
        "# Procesar el archivo\n",
        "procesar_archivo(tc_seleccionado)"
      ],
      "metadata": {
        "colab": {
          "base_uri": "https://localhost:8080/"
        },
        "id": "kolEwDG8tCbB",
        "outputId": "d8bbcf1e-1d79-4f24-9abd-acf635d2d1f7"
      },
      "execution_count": 14,
      "outputs": [
        {
          "output_type": "stream",
          "name": "stdout",
          "text": [
            "Palabras y su frecuencia en el archivo:\n",
            "mother: 1\n",
            "tions: 1\n",
            "pin: 1\n",
            "sure: 1\n",
            "regulatory: 1\n",
            "shower: 1\n",
            "uni: 1\n",
            "dial: 1\n",
            "photography: 1\n",
            "buying: 1\n",
            "firms: 1\n",
            "nba: 1\n",
            "father: 1\n",
            "championship: 1\n",
            "vagina: 1\n",
            "fonts: 1\n",
            "sparc: 1\n",
            "explorer: 1\n",
            "rl: 1\n",
            "shadow: 1\n",
            "danish: 1\n",
            "seed: 1\n",
            "hiking: 1\n",
            "instrumentation: 1\n",
            "introduces: 1\n",
            "kinda: 1\n",
            "nor: 1\n",
            "newer: 1\n",
            "peter: 1\n",
            "contamination: 1\n",
            "matters: 1\n",
            "bedding: 1\n",
            "achievement: 1\n",
            "password: 1\n",
            "conservative: 2\n",
            "webcast: 1\n",
            "locks: 1\n",
            "cove: 1\n",
            "taxes: 1\n",
            "could: 1\n",
            "pct: 1\n",
            "adequate: 1\n",
            "nightmare: 1\n",
            "marathon: 1\n",
            "permission: 1\n",
            "cartridge: 1\n",
            "clear: 1\n",
            "drum: 1\n",
            "trained: 1\n",
            "p: 1\n",
            "manufacturer: 1\n",
            "leisure: 1\n",
            "media: 1\n",
            "journey: 1\n",
            "anal: 1\n",
            "teaches: 1\n",
            "customized: 1\n",
            "oakland: 1\n",
            "louis: 1\n",
            "tab: 1\n",
            "consistent: 1\n",
            "enhanced: 1\n",
            "liable: 1\n",
            "ebony: 1\n",
            "wan: 1\n",
            "pubmed: 1\n",
            "math: 1\n",
            "tea: 1\n",
            "craps: 1\n",
            "gothic: 1\n",
            "permissions: 1\n",
            "recorded: 1\n",
            "cgi: 1\n",
            "confirm: 1\n",
            "hyundai: 1\n",
            "exhaust: 1\n",
            "malpractice: 1\n",
            "pens: 1\n",
            "potentially: 1\n",
            "glenn: 1\n",
            "scoring: 1\n",
            "andrews: 1\n",
            "assessed: 1\n",
            "adventures: 1\n",
            "meals: 1\n",
            "mortality: 1\n",
            "club: 1\n",
            "mon: 1\n",
            "comm: 1\n",
            "blues: 1\n",
            "collect: 1\n",
            "lies: 1\n",
            "seats: 1\n",
            "worse: 1\n",
            "guestbook: 1\n",
            "influences: 1\n",
            "kodak: 1\n",
            "significance: 1\n",
            "coastal: 1\n"
          ]
        }
      ]
    }
  ]
}